{
 "cells": [
  {
   "cell_type": "code",
   "execution_count": 1,
   "id": "b383b79c",
   "metadata": {},
   "outputs": [
    {
     "ename": "NameError",
     "evalue": "name 'janu' is not defined",
     "output_type": "error",
     "traceback": [
      "\u001b[1;31m---------------------------------------------------------------------------\u001b[0m",
      "\u001b[1;31mNameError\u001b[0m                                 Traceback (most recent call last)",
      "Cell \u001b[1;32mIn[1], line 2\u001b[0m\n\u001b[0;32m      1\u001b[0m \u001b[38;5;28;01mimport\u001b[39;00m \u001b[38;5;21;01mpandas\u001b[39;00m \u001b[38;5;28;01mas\u001b[39;00m \u001b[38;5;21;01mpd\u001b[39;00m\n\u001b[1;32m----> 2\u001b[0m n\u001b[38;5;241m=\u001b[39mjanu\n\u001b[0;32m      3\u001b[0m \u001b[38;5;28mprint\u001b[39m(n)\n",
      "\u001b[1;31mNameError\u001b[0m: name 'janu' is not defined"
     ]
    }
   ],
   "source": [
    "import pandas as pd\n",
    "n=janu\n",
    "print(n)"
   ]
  },
  {
   "cell_type": "code",
   "execution_count": 4,
   "id": "64b2156b",
   "metadata": {},
   "outputs": [
    {
     "ename": "NameError",
     "evalue": "name 'Series' is not defined",
     "output_type": "error",
     "traceback": [
      "\u001b[1;31m---------------------------------------------------------------------------\u001b[0m",
      "\u001b[1;31mNameError\u001b[0m                                 Traceback (most recent call last)",
      "Cell \u001b[1;32mIn[4], line 3\u001b[0m\n\u001b[0;32m      1\u001b[0m \u001b[38;5;28;01mimport\u001b[39;00m \u001b[38;5;21;01mpandas\u001b[39;00m \u001b[38;5;28;01mas\u001b[39;00m \u001b[38;5;21;01mpd\u001b[39;00m\n\u001b[0;32m      2\u001b[0m series\u001b[38;5;241m=\u001b[39m[\u001b[38;5;241m10\u001b[39m,\u001b[38;5;241m20\u001b[39m,\u001b[38;5;241m30\u001b[39m,\u001b[38;5;241m40\u001b[39m,\u001b[38;5;241m50\u001b[39m]\n\u001b[1;32m----> 3\u001b[0m \u001b[38;5;28mprint\u001b[39m(\u001b[38;5;124m\"\u001b[39m\u001b[38;5;124msum :\u001b[39m\u001b[38;5;124m\"\u001b[39m,pd\u001b[38;5;241m.\u001b[39mSeries(Series)\u001b[38;5;241m.\u001b[39mSum())\n",
      "\u001b[1;31mNameError\u001b[0m: name 'Series' is not defined"
     ]
    }
   ],
   "source": [
    "import pandas as pd\n",
    "series=[10,20,30,40,50]\n",
    "print(\"sum :\",pd.Series(Series).Sum())"
   ]
  },
  {
   "cell_type": "code",
   "execution_count": 6,
   "id": "576a6686",
   "metadata": {},
   "outputs": [
    {
     "name": "stdout",
     "output_type": "stream",
     "text": [
      "sum : 150\n"
     ]
    }
   ],
   "source": [
    "import pandas as pd\n",
    "Series=[10,20,30,40,50]\n",
    "print(\"sum :\",pd.Series(Series).sum())"
   ]
  },
  {
   "cell_type": "code",
   "execution_count": 12,
   "id": "4c5de8bd",
   "metadata": {},
   "outputs": [
    {
     "name": "stdout",
     "output_type": "stream",
     "text": [
      "min: 60.0\n"
     ]
    }
   ],
   "source": [
    "import pandas as pd\n",
    "series=[40,50,60,70,80]\n",
    "print(\"min:\",pd.Series(series).median())"
   ]
  },
  {
   "cell_type": "code",
   "execution_count": null,
   "id": "4b635e1c",
   "metadata": {},
   "outputs": [],
   "source": [
    "import pandas as pd\n",
    "data={'empno':[101,102,103,104],\n",
    "      'ename':['Ram','Raman','Bhaskar','Jnanesh'],\n",
    "      'qualification':['B.E',]"
   ]
  }
 ],
 "metadata": {
  "kernelspec": {
   "display_name": "Python 3 (ipykernel)",
   "language": "python",
   "name": "python3"
  },
  "language_info": {
   "codemirror_mode": {
    "name": "ipython",
    "version": 3
   },
   "file_extension": ".py",
   "mimetype": "text/x-python",
   "name": "python",
   "nbconvert_exporter": "python",
   "pygments_lexer": "ipython3",
   "version": "3.11.4"
  }
 },
 "nbformat": 4,
 "nbformat_minor": 5
}
