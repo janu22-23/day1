{
 "cells": [
  {
   "cell_type": "code",
   "execution_count": 3,
   "id": "8ec2e181",
   "metadata": {},
   "outputs": [
    {
     "name": "stdout",
     "output_type": "stream",
     "text": [
      "      Name  Age          city\n",
      "0    Alice   25      New York\n",
      "1      Bob   32  San Franciso\n",
      "2  Charlie   28   Los Angeles\n",
      "3    David   45       Chicago\n",
      "4      Eve   29         Miami\n"
     ]
    }
   ],
   "source": [
    "import pandas as pd\n",
    "data={\n",
    "    'Name':['Alice','Bob','Charlie','David','Eve'],\n",
    "    'Age':[25,32,28,45,29],\n",
    "    'city':['New York','San Franciso','Los Angeles','Chicago','Miami']}\n",
    "df=pd.DataFrame(data)\n",
    "print(df)\n"
   ]
  },
  {
   "cell_type": "code",
   "execution_count": null,
   "id": "5efc76b1",
   "metadata": {},
   "outputs": [],
   "source": []
  }
 ],
 "metadata": {
  "kernelspec": {
   "display_name": "Python 3 (ipykernel)",
   "language": "python",
   "name": "python3"
  },
  "language_info": {
   "codemirror_mode": {
    "name": "ipython",
    "version": 3
   },
   "file_extension": ".py",
   "mimetype": "text/x-python",
   "name": "python",
   "nbconvert_exporter": "python",
   "pygments_lexer": "ipython3",
   "version": "3.11.4"
  }
 },
 "nbformat": 4,
 "nbformat_minor": 5
}
